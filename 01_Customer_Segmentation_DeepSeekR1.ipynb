## DeepSeek for Advanced Customer Segmentation
