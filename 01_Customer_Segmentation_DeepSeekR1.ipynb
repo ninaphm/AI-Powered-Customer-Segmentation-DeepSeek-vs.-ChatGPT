## DeepSeek for Advanced Customer Segmentation
Perform Customer Segmentation
