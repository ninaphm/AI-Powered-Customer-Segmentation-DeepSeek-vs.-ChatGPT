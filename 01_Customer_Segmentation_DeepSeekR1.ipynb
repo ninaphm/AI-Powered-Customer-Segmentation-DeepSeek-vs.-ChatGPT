# Customer Segmentation using RFM Analysis & K-means Clustering
# [Open in Colab](https://colab.research.google.com)

## 1. Install & Import Libraries
# !pip install seaborn --quiet

import pandas as pd
import numpy as np
import matplotlib.pyplot as plt
import seaborn as sns

from sklearn.preprocessing import StandardScaler
from sklearn.cluster import KMeans
from sklearn.metrics import silhouette_score
from sklearn.decomposition import PCA
